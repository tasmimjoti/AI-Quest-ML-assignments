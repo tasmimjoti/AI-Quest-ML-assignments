{
  "nbformat": 4,
  "nbformat_minor": 0,
  "metadata": {
    "colab": {
      "provenance": [],
      "toc_visible": true
    },
    "kernelspec": {
      "name": "python3",
      "display_name": "Python 3"
    },
    "language_info": {
      "name": "python"
    }
  },
  "cells": [
    {
      "cell_type": "markdown",
      "source": [
        "# Variable"
      ],
      "metadata": {
        "id": "_zRXnk6PBUtI"
      }
    },
    {
      "cell_type": "code",
      "source": [
        "x = 10 #Global variable\n",
        "\n",
        "def display():\n",
        "    y = 5 #Local variable\n",
        "    z = x * 2 #x,y & z are variable\n",
        "    print(z)\n",
        "    print(y)\n",
        "\n",
        "display()\n",
        "print(x)"
      ],
      "metadata": {
        "colab": {
          "base_uri": "https://localhost:8080/"
        },
        "id": "K9P6NogoRH43",
        "outputId": "c9b03d84-fdb9-45f5-a888-93cdf7eff9fb"
      },
      "execution_count": 34,
      "outputs": [
        {
          "output_type": "stream",
          "name": "stdout",
          "text": [
            "20\n",
            "5\n",
            "10\n"
          ]
        }
      ]
    },
    {
      "cell_type": "markdown",
      "source": [
        "#if else condition"
      ],
      "metadata": {
        "id": "dgQ2OoJ_Rufe"
      }
    },
    {
      "cell_type": "code",
      "source": [
        "num = int(input(\"Enter an integer number: \"))\n",
        "\n",
        "if num%2 == 0:\n",
        "  print(\"The number is even.\")\n",
        "else:\n",
        "  print(\"The number is odd.\")"
      ],
      "metadata": {
        "colab": {
          "base_uri": "https://localhost:8080/"
        },
        "id": "6CwLyaLNR-bP",
        "outputId": "885e4f83-e2fa-4d4c-d434-551bd456bfeb"
      },
      "execution_count": 37,
      "outputs": [
        {
          "output_type": "stream",
          "name": "stdout",
          "text": [
            "Enter an integer number: 54\n",
            "The number is even.\n"
          ]
        }
      ]
    },
    {
      "cell_type": "markdown",
      "source": [
        "###elif statement:"
      ],
      "metadata": {
        "id": "Giowc_4aXPvD"
      }
    },
    {
      "cell_type": "code",
      "source": [
        "num = float(input(\"Enter a number: \"))\n",
        "\n",
        "if num > 0:\n",
        "    print(\"Positive number\")\n",
        "elif num == 0:\n",
        "    print(\"Zero\")\n",
        "else:\n",
        "    print(\"Negative number\")"
      ],
      "metadata": {
        "colab": {
          "base_uri": "https://localhost:8080/"
        },
        "id": "rBAnbJFAWhnH",
        "outputId": "4d07b4f3-04e2-416a-a17a-a900e22e780d"
      },
      "execution_count": 49,
      "outputs": [
        {
          "output_type": "stream",
          "name": "stdout",
          "text": [
            "Enter a number: -6\n",
            "Negative number\n"
          ]
        }
      ]
    },
    {
      "cell_type": "markdown",
      "source": [
        "###Nested if else condition:"
      ],
      "metadata": {
        "id": "j8xEZpIYXB1_"
      }
    },
    {
      "cell_type": "code",
      "source": [
        "num = float(input(\"Enter a number: \"))\n",
        "if num >= 0:\n",
        "    if num == 0:\n",
        "        print(\"Zero\")\n",
        "    else:\n",
        "        print(\"Positive number\")\n",
        "else:\n",
        "    print(\"Negative number\")"
      ],
      "metadata": {
        "colab": {
          "base_uri": "https://localhost:8080/"
        },
        "id": "ZJUDyHIlW-8h",
        "outputId": "8d7168b4-6b7c-4848-9cd5-4d397ae12a76"
      },
      "execution_count": 46,
      "outputs": [
        {
          "output_type": "stream",
          "name": "stdout",
          "text": [
            "Enter a number: -2.5\n",
            "Negative number\n"
          ]
        }
      ]
    },
    {
      "cell_type": "markdown",
      "source": [
        "## Loop"
      ],
      "metadata": {
        "id": "vwuOQuIOTTS7"
      }
    },
    {
      "cell_type": "markdown",
      "source": [
        "###for loop:"
      ],
      "metadata": {
        "id": "Ev4gVR9GYSTx"
      }
    },
    {
      "cell_type": "code",
      "source": [
        "str = input(\"Enter a string: \")\n",
        "for i in str:\n",
        "  print(i)"
      ],
      "metadata": {
        "colab": {
          "base_uri": "https://localhost:8080/"
        },
        "id": "Lxap7GtCTVPe",
        "outputId": "deef6b34-5ed5-4bbe-95b3-33bcb63febc8"
      },
      "execution_count": 50,
      "outputs": [
        {
          "output_type": "stream",
          "name": "stdout",
          "text": [
            "Enter a string: Butterfly\n",
            "B\n",
            "u\n",
            "t\n",
            "t\n",
            "e\n",
            "r\n",
            "f\n",
            "l\n",
            "y\n"
          ]
        }
      ]
    },
    {
      "cell_type": "markdown",
      "source": [
        "###while loop:"
      ],
      "metadata": {
        "id": "jwN6FYNIYZfw"
      }
    },
    {
      "cell_type": "code",
      "source": [
        "i = 0\n",
        "str = 'Python is easy'\n",
        "while i < len(str):\n",
        "  print(str[i])\n",
        "  i += 1"
      ],
      "metadata": {
        "colab": {
          "base_uri": "https://localhost:8080/"
        },
        "id": "FWM7Z6J1Ut4R",
        "outputId": "1128b187-a83b-4cf8-b3e1-5abb0bc75ad1"
      },
      "execution_count": 43,
      "outputs": [
        {
          "output_type": "stream",
          "name": "stdout",
          "text": [
            "P\n",
            "y\n",
            "t\n",
            "h\n",
            "o\n",
            "n\n",
            " \n",
            "i\n",
            "s\n",
            " \n",
            "e\n",
            "a\n",
            "s\n",
            "y\n"
          ]
        }
      ]
    }
  ]
}