{
  "nbformat": 4,
  "nbformat_minor": 0,
  "metadata": {
    "colab": {
      "provenance": []
    },
    "kernelspec": {
      "name": "python3",
      "display_name": "Python 3"
    },
    "language_info": {
      "name": "python"
    }
  },
  "cells": [
    {
      "cell_type": "code",
      "execution_count": 1,
      "metadata": {
        "id": "QOK8JEQtVd_s"
      },
      "outputs": [],
      "source": [
        "import pandas as pd\n",
        "import numpy as np\n",
        "import seaborn as sns\n",
        "import matplotlib.pyplot as plt"
      ]
    },
    {
      "cell_type": "code",
      "source": [
        "import warnings\n",
        "warnings.filterwarnings(\"ignore\")"
      ],
      "metadata": {
        "id": "JxgS7SGlVp92"
      },
      "execution_count": 2,
      "outputs": []
    },
    {
      "cell_type": "code",
      "source": [
        "df = pd.read_csv(\"/content/drive/MyDrive/AI Quest/Assignment-12/insurance.csv\")"
      ],
      "metadata": {
        "id": "1Ys41dC4Vu-T"
      },
      "execution_count": 3,
      "outputs": []
    },
    {
      "cell_type": "code",
      "source": [
        "df.head()"
      ],
      "metadata": {
        "colab": {
          "base_uri": "https://localhost:8080/",
          "height": 206
        },
        "id": "xVyCiYQhWE2_",
        "outputId": "9b35a57c-96d3-44c5-e154-12ad508f92a0"
      },
      "execution_count": 4,
      "outputs": [
        {
          "output_type": "execute_result",
          "data": {
            "text/plain": [
              "   age     sex     bmi  children smoker     region      charges\n",
              "0   19  female  27.900         0    yes  southwest  16884.92400\n",
              "1   18    male  33.770         1     no  southeast   1725.55230\n",
              "2   28    male  33.000         3     no  southeast   4449.46200\n",
              "3   33    male  22.705         0     no  northwest  21984.47061\n",
              "4   32    male  28.880         0     no  northwest   3866.85520"
            ],
            "text/html": [
              "\n",
              "  <div id=\"df-0402a331-64be-48cf-9ab7-89e700bb56f0\">\n",
              "    <div class=\"colab-df-container\">\n",
              "      <div>\n",
              "<style scoped>\n",
              "    .dataframe tbody tr th:only-of-type {\n",
              "        vertical-align: middle;\n",
              "    }\n",
              "\n",
              "    .dataframe tbody tr th {\n",
              "        vertical-align: top;\n",
              "    }\n",
              "\n",
              "    .dataframe thead th {\n",
              "        text-align: right;\n",
              "    }\n",
              "</style>\n",
              "<table border=\"1\" class=\"dataframe\">\n",
              "  <thead>\n",
              "    <tr style=\"text-align: right;\">\n",
              "      <th></th>\n",
              "      <th>age</th>\n",
              "      <th>sex</th>\n",
              "      <th>bmi</th>\n",
              "      <th>children</th>\n",
              "      <th>smoker</th>\n",
              "      <th>region</th>\n",
              "      <th>charges</th>\n",
              "    </tr>\n",
              "  </thead>\n",
              "  <tbody>\n",
              "    <tr>\n",
              "      <th>0</th>\n",
              "      <td>19</td>\n",
              "      <td>female</td>\n",
              "      <td>27.900</td>\n",
              "      <td>0</td>\n",
              "      <td>yes</td>\n",
              "      <td>southwest</td>\n",
              "      <td>16884.92400</td>\n",
              "    </tr>\n",
              "    <tr>\n",
              "      <th>1</th>\n",
              "      <td>18</td>\n",
              "      <td>male</td>\n",
              "      <td>33.770</td>\n",
              "      <td>1</td>\n",
              "      <td>no</td>\n",
              "      <td>southeast</td>\n",
              "      <td>1725.55230</td>\n",
              "    </tr>\n",
              "    <tr>\n",
              "      <th>2</th>\n",
              "      <td>28</td>\n",
              "      <td>male</td>\n",
              "      <td>33.000</td>\n",
              "      <td>3</td>\n",
              "      <td>no</td>\n",
              "      <td>southeast</td>\n",
              "      <td>4449.46200</td>\n",
              "    </tr>\n",
              "    <tr>\n",
              "      <th>3</th>\n",
              "      <td>33</td>\n",
              "      <td>male</td>\n",
              "      <td>22.705</td>\n",
              "      <td>0</td>\n",
              "      <td>no</td>\n",
              "      <td>northwest</td>\n",
              "      <td>21984.47061</td>\n",
              "    </tr>\n",
              "    <tr>\n",
              "      <th>4</th>\n",
              "      <td>32</td>\n",
              "      <td>male</td>\n",
              "      <td>28.880</td>\n",
              "      <td>0</td>\n",
              "      <td>no</td>\n",
              "      <td>northwest</td>\n",
              "      <td>3866.85520</td>\n",
              "    </tr>\n",
              "  </tbody>\n",
              "</table>\n",
              "</div>\n",
              "      <button class=\"colab-df-convert\" onclick=\"convertToInteractive('df-0402a331-64be-48cf-9ab7-89e700bb56f0')\"\n",
              "              title=\"Convert this dataframe to an interactive table.\"\n",
              "              style=\"display:none;\">\n",
              "        \n",
              "  <svg xmlns=\"http://www.w3.org/2000/svg\" height=\"24px\"viewBox=\"0 0 24 24\"\n",
              "       width=\"24px\">\n",
              "    <path d=\"M0 0h24v24H0V0z\" fill=\"none\"/>\n",
              "    <path d=\"M18.56 5.44l.94 2.06.94-2.06 2.06-.94-2.06-.94-.94-2.06-.94 2.06-2.06.94zm-11 1L8.5 8.5l.94-2.06 2.06-.94-2.06-.94L8.5 2.5l-.94 2.06-2.06.94zm10 10l.94 2.06.94-2.06 2.06-.94-2.06-.94-.94-2.06-.94 2.06-2.06.94z\"/><path d=\"M17.41 7.96l-1.37-1.37c-.4-.4-.92-.59-1.43-.59-.52 0-1.04.2-1.43.59L10.3 9.45l-7.72 7.72c-.78.78-.78 2.05 0 2.83L4 21.41c.39.39.9.59 1.41.59.51 0 1.02-.2 1.41-.59l7.78-7.78 2.81-2.81c.8-.78.8-2.07 0-2.86zM5.41 20L4 18.59l7.72-7.72 1.47 1.35L5.41 20z\"/>\n",
              "  </svg>\n",
              "      </button>\n",
              "      \n",
              "  <style>\n",
              "    .colab-df-container {\n",
              "      display:flex;\n",
              "      flex-wrap:wrap;\n",
              "      gap: 12px;\n",
              "    }\n",
              "\n",
              "    .colab-df-convert {\n",
              "      background-color: #E8F0FE;\n",
              "      border: none;\n",
              "      border-radius: 50%;\n",
              "      cursor: pointer;\n",
              "      display: none;\n",
              "      fill: #1967D2;\n",
              "      height: 32px;\n",
              "      padding: 0 0 0 0;\n",
              "      width: 32px;\n",
              "    }\n",
              "\n",
              "    .colab-df-convert:hover {\n",
              "      background-color: #E2EBFA;\n",
              "      box-shadow: 0px 1px 2px rgba(60, 64, 67, 0.3), 0px 1px 3px 1px rgba(60, 64, 67, 0.15);\n",
              "      fill: #174EA6;\n",
              "    }\n",
              "\n",
              "    [theme=dark] .colab-df-convert {\n",
              "      background-color: #3B4455;\n",
              "      fill: #D2E3FC;\n",
              "    }\n",
              "\n",
              "    [theme=dark] .colab-df-convert:hover {\n",
              "      background-color: #434B5C;\n",
              "      box-shadow: 0px 1px 3px 1px rgba(0, 0, 0, 0.15);\n",
              "      filter: drop-shadow(0px 1px 2px rgba(0, 0, 0, 0.3));\n",
              "      fill: #FFFFFF;\n",
              "    }\n",
              "  </style>\n",
              "\n",
              "      <script>\n",
              "        const buttonEl =\n",
              "          document.querySelector('#df-0402a331-64be-48cf-9ab7-89e700bb56f0 button.colab-df-convert');\n",
              "        buttonEl.style.display =\n",
              "          google.colab.kernel.accessAllowed ? 'block' : 'none';\n",
              "\n",
              "        async function convertToInteractive(key) {\n",
              "          const element = document.querySelector('#df-0402a331-64be-48cf-9ab7-89e700bb56f0');\n",
              "          const dataTable =\n",
              "            await google.colab.kernel.invokeFunction('convertToInteractive',\n",
              "                                                     [key], {});\n",
              "          if (!dataTable) return;\n",
              "\n",
              "          const docLinkHtml = 'Like what you see? Visit the ' +\n",
              "            '<a target=\"_blank\" href=https://colab.research.google.com/notebooks/data_table.ipynb>data table notebook</a>'\n",
              "            + ' to learn more about interactive tables.';\n",
              "          element.innerHTML = '';\n",
              "          dataTable['output_type'] = 'display_data';\n",
              "          await google.colab.output.renderOutput(dataTable, element);\n",
              "          const docLink = document.createElement('div');\n",
              "          docLink.innerHTML = docLinkHtml;\n",
              "          element.appendChild(docLink);\n",
              "        }\n",
              "      </script>\n",
              "    </div>\n",
              "  </div>\n",
              "  "
            ]
          },
          "metadata": {},
          "execution_count": 4
        }
      ]
    },
    {
      "cell_type": "code",
      "source": [
        "df.info()"
      ],
      "metadata": {
        "colab": {
          "base_uri": "https://localhost:8080/"
        },
        "id": "AvbMGkK4YOAt",
        "outputId": "9946d9e1-f81c-4e0c-bcd4-b59a1aafe032"
      },
      "execution_count": 5,
      "outputs": [
        {
          "output_type": "stream",
          "name": "stdout",
          "text": [
            "<class 'pandas.core.frame.DataFrame'>\n",
            "RangeIndex: 1338 entries, 0 to 1337\n",
            "Data columns (total 7 columns):\n",
            " #   Column    Non-Null Count  Dtype  \n",
            "---  ------    --------------  -----  \n",
            " 0   age       1338 non-null   int64  \n",
            " 1   sex       1338 non-null   object \n",
            " 2   bmi       1338 non-null   float64\n",
            " 3   children  1338 non-null   int64  \n",
            " 4   smoker    1338 non-null   object \n",
            " 5   region    1338 non-null   object \n",
            " 6   charges   1338 non-null   float64\n",
            "dtypes: float64(2), int64(2), object(3)\n",
            "memory usage: 73.3+ KB\n"
          ]
        }
      ]
    },
    {
      "cell_type": "code",
      "source": [
        "df.isnull().sum()"
      ],
      "metadata": {
        "colab": {
          "base_uri": "https://localhost:8080/"
        },
        "id": "hQjEwzVN9mGn",
        "outputId": "8a933352-c690-42c8-f2eb-20a2f8c4626b"
      },
      "execution_count": 6,
      "outputs": [
        {
          "output_type": "execute_result",
          "data": {
            "text/plain": [
              "age         0\n",
              "sex         0\n",
              "bmi         0\n",
              "children    0\n",
              "smoker      0\n",
              "region      0\n",
              "charges     0\n",
              "dtype: int64"
            ]
          },
          "metadata": {},
          "execution_count": 6
        }
      ]
    },
    {
      "cell_type": "code",
      "source": [
        "df.drop_duplicates(inplace = True)"
      ],
      "metadata": {
        "id": "hcujwdG_93op"
      },
      "execution_count": 7,
      "outputs": []
    },
    {
      "cell_type": "markdown",
      "source": [
        "#**Encoding**"
      ],
      "metadata": {
        "id": "8zGnxR8LIBAr"
      }
    },
    {
      "cell_type": "code",
      "source": [
        "from sklearn.preprocessing import LabelEncoder"
      ],
      "metadata": {
        "id": "0eLlJl3G95X6"
      },
      "execution_count": 8,
      "outputs": []
    },
    {
      "cell_type": "code",
      "source": [
        "le = LabelEncoder()"
      ],
      "metadata": {
        "id": "ISd-_InT-Y2p"
      },
      "execution_count": 9,
      "outputs": []
    },
    {
      "cell_type": "code",
      "source": [
        "from pandas.core.dtypes.common import is_numeric_dtype"
      ],
      "metadata": {
        "id": "dq20odJm-fbA"
      },
      "execution_count": 10,
      "outputs": []
    },
    {
      "cell_type": "code",
      "source": [
        "for col in df.columns:\n",
        "  if is_numeric_dtype(df[col]):\n",
        "    continue\n",
        "  else:\n",
        "    df[col] = le.fit_transform(df[col])"
      ],
      "metadata": {
        "id": "xk4idyGbAyuQ"
      },
      "execution_count": 11,
      "outputs": []
    },
    {
      "cell_type": "code",
      "source": [
        "df.head()"
      ],
      "metadata": {
        "colab": {
          "base_uri": "https://localhost:8080/",
          "height": 206
        },
        "id": "Vd3UgDFgA62Q",
        "outputId": "a94494ab-5b96-4b2c-d126-f0940d41eb3c"
      },
      "execution_count": 12,
      "outputs": [
        {
          "output_type": "execute_result",
          "data": {
            "text/plain": [
              "   age  sex     bmi  children  smoker  region      charges\n",
              "0   19    0  27.900         0       1       3  16884.92400\n",
              "1   18    1  33.770         1       0       2   1725.55230\n",
              "2   28    1  33.000         3       0       2   4449.46200\n",
              "3   33    1  22.705         0       0       1  21984.47061\n",
              "4   32    1  28.880         0       0       1   3866.85520"
            ],
            "text/html": [
              "\n",
              "  <div id=\"df-4a8c4640-28cb-41a5-8742-e46a117f93a7\">\n",
              "    <div class=\"colab-df-container\">\n",
              "      <div>\n",
              "<style scoped>\n",
              "    .dataframe tbody tr th:only-of-type {\n",
              "        vertical-align: middle;\n",
              "    }\n",
              "\n",
              "    .dataframe tbody tr th {\n",
              "        vertical-align: top;\n",
              "    }\n",
              "\n",
              "    .dataframe thead th {\n",
              "        text-align: right;\n",
              "    }\n",
              "</style>\n",
              "<table border=\"1\" class=\"dataframe\">\n",
              "  <thead>\n",
              "    <tr style=\"text-align: right;\">\n",
              "      <th></th>\n",
              "      <th>age</th>\n",
              "      <th>sex</th>\n",
              "      <th>bmi</th>\n",
              "      <th>children</th>\n",
              "      <th>smoker</th>\n",
              "      <th>region</th>\n",
              "      <th>charges</th>\n",
              "    </tr>\n",
              "  </thead>\n",
              "  <tbody>\n",
              "    <tr>\n",
              "      <th>0</th>\n",
              "      <td>19</td>\n",
              "      <td>0</td>\n",
              "      <td>27.900</td>\n",
              "      <td>0</td>\n",
              "      <td>1</td>\n",
              "      <td>3</td>\n",
              "      <td>16884.92400</td>\n",
              "    </tr>\n",
              "    <tr>\n",
              "      <th>1</th>\n",
              "      <td>18</td>\n",
              "      <td>1</td>\n",
              "      <td>33.770</td>\n",
              "      <td>1</td>\n",
              "      <td>0</td>\n",
              "      <td>2</td>\n",
              "      <td>1725.55230</td>\n",
              "    </tr>\n",
              "    <tr>\n",
              "      <th>2</th>\n",
              "      <td>28</td>\n",
              "      <td>1</td>\n",
              "      <td>33.000</td>\n",
              "      <td>3</td>\n",
              "      <td>0</td>\n",
              "      <td>2</td>\n",
              "      <td>4449.46200</td>\n",
              "    </tr>\n",
              "    <tr>\n",
              "      <th>3</th>\n",
              "      <td>33</td>\n",
              "      <td>1</td>\n",
              "      <td>22.705</td>\n",
              "      <td>0</td>\n",
              "      <td>0</td>\n",
              "      <td>1</td>\n",
              "      <td>21984.47061</td>\n",
              "    </tr>\n",
              "    <tr>\n",
              "      <th>4</th>\n",
              "      <td>32</td>\n",
              "      <td>1</td>\n",
              "      <td>28.880</td>\n",
              "      <td>0</td>\n",
              "      <td>0</td>\n",
              "      <td>1</td>\n",
              "      <td>3866.85520</td>\n",
              "    </tr>\n",
              "  </tbody>\n",
              "</table>\n",
              "</div>\n",
              "      <button class=\"colab-df-convert\" onclick=\"convertToInteractive('df-4a8c4640-28cb-41a5-8742-e46a117f93a7')\"\n",
              "              title=\"Convert this dataframe to an interactive table.\"\n",
              "              style=\"display:none;\">\n",
              "        \n",
              "  <svg xmlns=\"http://www.w3.org/2000/svg\" height=\"24px\"viewBox=\"0 0 24 24\"\n",
              "       width=\"24px\">\n",
              "    <path d=\"M0 0h24v24H0V0z\" fill=\"none\"/>\n",
              "    <path d=\"M18.56 5.44l.94 2.06.94-2.06 2.06-.94-2.06-.94-.94-2.06-.94 2.06-2.06.94zm-11 1L8.5 8.5l.94-2.06 2.06-.94-2.06-.94L8.5 2.5l-.94 2.06-2.06.94zm10 10l.94 2.06.94-2.06 2.06-.94-2.06-.94-.94-2.06-.94 2.06-2.06.94z\"/><path d=\"M17.41 7.96l-1.37-1.37c-.4-.4-.92-.59-1.43-.59-.52 0-1.04.2-1.43.59L10.3 9.45l-7.72 7.72c-.78.78-.78 2.05 0 2.83L4 21.41c.39.39.9.59 1.41.59.51 0 1.02-.2 1.41-.59l7.78-7.78 2.81-2.81c.8-.78.8-2.07 0-2.86zM5.41 20L4 18.59l7.72-7.72 1.47 1.35L5.41 20z\"/>\n",
              "  </svg>\n",
              "      </button>\n",
              "      \n",
              "  <style>\n",
              "    .colab-df-container {\n",
              "      display:flex;\n",
              "      flex-wrap:wrap;\n",
              "      gap: 12px;\n",
              "    }\n",
              "\n",
              "    .colab-df-convert {\n",
              "      background-color: #E8F0FE;\n",
              "      border: none;\n",
              "      border-radius: 50%;\n",
              "      cursor: pointer;\n",
              "      display: none;\n",
              "      fill: #1967D2;\n",
              "      height: 32px;\n",
              "      padding: 0 0 0 0;\n",
              "      width: 32px;\n",
              "    }\n",
              "\n",
              "    .colab-df-convert:hover {\n",
              "      background-color: #E2EBFA;\n",
              "      box-shadow: 0px 1px 2px rgba(60, 64, 67, 0.3), 0px 1px 3px 1px rgba(60, 64, 67, 0.15);\n",
              "      fill: #174EA6;\n",
              "    }\n",
              "\n",
              "    [theme=dark] .colab-df-convert {\n",
              "      background-color: #3B4455;\n",
              "      fill: #D2E3FC;\n",
              "    }\n",
              "\n",
              "    [theme=dark] .colab-df-convert:hover {\n",
              "      background-color: #434B5C;\n",
              "      box-shadow: 0px 1px 3px 1px rgba(0, 0, 0, 0.15);\n",
              "      filter: drop-shadow(0px 1px 2px rgba(0, 0, 0, 0.3));\n",
              "      fill: #FFFFFF;\n",
              "    }\n",
              "  </style>\n",
              "\n",
              "      <script>\n",
              "        const buttonEl =\n",
              "          document.querySelector('#df-4a8c4640-28cb-41a5-8742-e46a117f93a7 button.colab-df-convert');\n",
              "        buttonEl.style.display =\n",
              "          google.colab.kernel.accessAllowed ? 'block' : 'none';\n",
              "\n",
              "        async function convertToInteractive(key) {\n",
              "          const element = document.querySelector('#df-4a8c4640-28cb-41a5-8742-e46a117f93a7');\n",
              "          const dataTable =\n",
              "            await google.colab.kernel.invokeFunction('convertToInteractive',\n",
              "                                                     [key], {});\n",
              "          if (!dataTable) return;\n",
              "\n",
              "          const docLinkHtml = 'Like what you see? Visit the ' +\n",
              "            '<a target=\"_blank\" href=https://colab.research.google.com/notebooks/data_table.ipynb>data table notebook</a>'\n",
              "            + ' to learn more about interactive tables.';\n",
              "          element.innerHTML = '';\n",
              "          dataTable['output_type'] = 'display_data';\n",
              "          await google.colab.output.renderOutput(dataTable, element);\n",
              "          const docLink = document.createElement('div');\n",
              "          docLink.innerHTML = docLinkHtml;\n",
              "          element.appendChild(docLink);\n",
              "        }\n",
              "      </script>\n",
              "    </div>\n",
              "  </div>\n",
              "  "
            ]
          },
          "metadata": {},
          "execution_count": 12
        }
      ]
    },
    {
      "cell_type": "markdown",
      "source": [
        "#**Correlation of data**"
      ],
      "metadata": {
        "id": "N8bccN3sIHx8"
      }
    },
    {
      "cell_type": "code",
      "source": [
        "df.corr()"
      ],
      "metadata": {
        "colab": {
          "base_uri": "https://localhost:8080/",
          "height": 269
        },
        "id": "3TL9iTzAA8FF",
        "outputId": "83cbac1f-6845-4848-d994-b467d5bbf6a3"
      },
      "execution_count": 13,
      "outputs": [
        {
          "output_type": "execute_result",
          "data": {
            "text/plain": [
              "               age       sex       bmi  children    smoker    region   charges\n",
              "age       1.000000 -0.019814  0.109344  0.041536 -0.025587  0.001626  0.298308\n",
              "sex      -0.019814  1.000000  0.046397  0.017848  0.076596  0.004936  0.058044\n",
              "bmi       0.109344  0.046397  1.000000  0.012755  0.003746  0.157574  0.198401\n",
              "children  0.041536  0.017848  0.012755  1.000000  0.007331  0.016258  0.067389\n",
              "smoker   -0.025587  0.076596  0.003746  0.007331  1.000000 -0.002358  0.787234\n",
              "region    0.001626  0.004936  0.157574  0.016258 -0.002358  1.000000 -0.006547\n",
              "charges   0.298308  0.058044  0.198401  0.067389  0.787234 -0.006547  1.000000"
            ],
            "text/html": [
              "\n",
              "  <div id=\"df-7fc8aa44-dce0-4623-915c-8aa9f489b0b2\">\n",
              "    <div class=\"colab-df-container\">\n",
              "      <div>\n",
              "<style scoped>\n",
              "    .dataframe tbody tr th:only-of-type {\n",
              "        vertical-align: middle;\n",
              "    }\n",
              "\n",
              "    .dataframe tbody tr th {\n",
              "        vertical-align: top;\n",
              "    }\n",
              "\n",
              "    .dataframe thead th {\n",
              "        text-align: right;\n",
              "    }\n",
              "</style>\n",
              "<table border=\"1\" class=\"dataframe\">\n",
              "  <thead>\n",
              "    <tr style=\"text-align: right;\">\n",
              "      <th></th>\n",
              "      <th>age</th>\n",
              "      <th>sex</th>\n",
              "      <th>bmi</th>\n",
              "      <th>children</th>\n",
              "      <th>smoker</th>\n",
              "      <th>region</th>\n",
              "      <th>charges</th>\n",
              "    </tr>\n",
              "  </thead>\n",
              "  <tbody>\n",
              "    <tr>\n",
              "      <th>age</th>\n",
              "      <td>1.000000</td>\n",
              "      <td>-0.019814</td>\n",
              "      <td>0.109344</td>\n",
              "      <td>0.041536</td>\n",
              "      <td>-0.025587</td>\n",
              "      <td>0.001626</td>\n",
              "      <td>0.298308</td>\n",
              "    </tr>\n",
              "    <tr>\n",
              "      <th>sex</th>\n",
              "      <td>-0.019814</td>\n",
              "      <td>1.000000</td>\n",
              "      <td>0.046397</td>\n",
              "      <td>0.017848</td>\n",
              "      <td>0.076596</td>\n",
              "      <td>0.004936</td>\n",
              "      <td>0.058044</td>\n",
              "    </tr>\n",
              "    <tr>\n",
              "      <th>bmi</th>\n",
              "      <td>0.109344</td>\n",
              "      <td>0.046397</td>\n",
              "      <td>1.000000</td>\n",
              "      <td>0.012755</td>\n",
              "      <td>0.003746</td>\n",
              "      <td>0.157574</td>\n",
              "      <td>0.198401</td>\n",
              "    </tr>\n",
              "    <tr>\n",
              "      <th>children</th>\n",
              "      <td>0.041536</td>\n",
              "      <td>0.017848</td>\n",
              "      <td>0.012755</td>\n",
              "      <td>1.000000</td>\n",
              "      <td>0.007331</td>\n",
              "      <td>0.016258</td>\n",
              "      <td>0.067389</td>\n",
              "    </tr>\n",
              "    <tr>\n",
              "      <th>smoker</th>\n",
              "      <td>-0.025587</td>\n",
              "      <td>0.076596</td>\n",
              "      <td>0.003746</td>\n",
              "      <td>0.007331</td>\n",
              "      <td>1.000000</td>\n",
              "      <td>-0.002358</td>\n",
              "      <td>0.787234</td>\n",
              "    </tr>\n",
              "    <tr>\n",
              "      <th>region</th>\n",
              "      <td>0.001626</td>\n",
              "      <td>0.004936</td>\n",
              "      <td>0.157574</td>\n",
              "      <td>0.016258</td>\n",
              "      <td>-0.002358</td>\n",
              "      <td>1.000000</td>\n",
              "      <td>-0.006547</td>\n",
              "    </tr>\n",
              "    <tr>\n",
              "      <th>charges</th>\n",
              "      <td>0.298308</td>\n",
              "      <td>0.058044</td>\n",
              "      <td>0.198401</td>\n",
              "      <td>0.067389</td>\n",
              "      <td>0.787234</td>\n",
              "      <td>-0.006547</td>\n",
              "      <td>1.000000</td>\n",
              "    </tr>\n",
              "  </tbody>\n",
              "</table>\n",
              "</div>\n",
              "      <button class=\"colab-df-convert\" onclick=\"convertToInteractive('df-7fc8aa44-dce0-4623-915c-8aa9f489b0b2')\"\n",
              "              title=\"Convert this dataframe to an interactive table.\"\n",
              "              style=\"display:none;\">\n",
              "        \n",
              "  <svg xmlns=\"http://www.w3.org/2000/svg\" height=\"24px\"viewBox=\"0 0 24 24\"\n",
              "       width=\"24px\">\n",
              "    <path d=\"M0 0h24v24H0V0z\" fill=\"none\"/>\n",
              "    <path d=\"M18.56 5.44l.94 2.06.94-2.06 2.06-.94-2.06-.94-.94-2.06-.94 2.06-2.06.94zm-11 1L8.5 8.5l.94-2.06 2.06-.94-2.06-.94L8.5 2.5l-.94 2.06-2.06.94zm10 10l.94 2.06.94-2.06 2.06-.94-2.06-.94-.94-2.06-.94 2.06-2.06.94z\"/><path d=\"M17.41 7.96l-1.37-1.37c-.4-.4-.92-.59-1.43-.59-.52 0-1.04.2-1.43.59L10.3 9.45l-7.72 7.72c-.78.78-.78 2.05 0 2.83L4 21.41c.39.39.9.59 1.41.59.51 0 1.02-.2 1.41-.59l7.78-7.78 2.81-2.81c.8-.78.8-2.07 0-2.86zM5.41 20L4 18.59l7.72-7.72 1.47 1.35L5.41 20z\"/>\n",
              "  </svg>\n",
              "      </button>\n",
              "      \n",
              "  <style>\n",
              "    .colab-df-container {\n",
              "      display:flex;\n",
              "      flex-wrap:wrap;\n",
              "      gap: 12px;\n",
              "    }\n",
              "\n",
              "    .colab-df-convert {\n",
              "      background-color: #E8F0FE;\n",
              "      border: none;\n",
              "      border-radius: 50%;\n",
              "      cursor: pointer;\n",
              "      display: none;\n",
              "      fill: #1967D2;\n",
              "      height: 32px;\n",
              "      padding: 0 0 0 0;\n",
              "      width: 32px;\n",
              "    }\n",
              "\n",
              "    .colab-df-convert:hover {\n",
              "      background-color: #E2EBFA;\n",
              "      box-shadow: 0px 1px 2px rgba(60, 64, 67, 0.3), 0px 1px 3px 1px rgba(60, 64, 67, 0.15);\n",
              "      fill: #174EA6;\n",
              "    }\n",
              "\n",
              "    [theme=dark] .colab-df-convert {\n",
              "      background-color: #3B4455;\n",
              "      fill: #D2E3FC;\n",
              "    }\n",
              "\n",
              "    [theme=dark] .colab-df-convert:hover {\n",
              "      background-color: #434B5C;\n",
              "      box-shadow: 0px 1px 3px 1px rgba(0, 0, 0, 0.15);\n",
              "      filter: drop-shadow(0px 1px 2px rgba(0, 0, 0, 0.3));\n",
              "      fill: #FFFFFF;\n",
              "    }\n",
              "  </style>\n",
              "\n",
              "      <script>\n",
              "        const buttonEl =\n",
              "          document.querySelector('#df-7fc8aa44-dce0-4623-915c-8aa9f489b0b2 button.colab-df-convert');\n",
              "        buttonEl.style.display =\n",
              "          google.colab.kernel.accessAllowed ? 'block' : 'none';\n",
              "\n",
              "        async function convertToInteractive(key) {\n",
              "          const element = document.querySelector('#df-7fc8aa44-dce0-4623-915c-8aa9f489b0b2');\n",
              "          const dataTable =\n",
              "            await google.colab.kernel.invokeFunction('convertToInteractive',\n",
              "                                                     [key], {});\n",
              "          if (!dataTable) return;\n",
              "\n",
              "          const docLinkHtml = 'Like what you see? Visit the ' +\n",
              "            '<a target=\"_blank\" href=https://colab.research.google.com/notebooks/data_table.ipynb>data table notebook</a>'\n",
              "            + ' to learn more about interactive tables.';\n",
              "          element.innerHTML = '';\n",
              "          dataTable['output_type'] = 'display_data';\n",
              "          await google.colab.output.renderOutput(dataTable, element);\n",
              "          const docLink = document.createElement('div');\n",
              "          docLink.innerHTML = docLinkHtml;\n",
              "          element.appendChild(docLink);\n",
              "        }\n",
              "      </script>\n",
              "    </div>\n",
              "  </div>\n",
              "  "
            ]
          },
          "metadata": {},
          "execution_count": 13
        }
      ]
    },
    {
      "cell_type": "code",
      "source": [
        "plt.subplots(figsize = (15,10)) \n",
        "sns.heatmap(df.corr(), annot = True)"
      ],
      "metadata": {
        "colab": {
          "base_uri": "https://localhost:8080/",
          "height": 613
        },
        "id": "IVY41A2ZBZaA",
        "outputId": "68d44c89-a9ea-4759-893b-35c2bc49b097"
      },
      "execution_count": 14,
      "outputs": [
        {
          "output_type": "execute_result",
          "data": {
            "text/plain": [
              "<matplotlib.axes._subplots.AxesSubplot at 0x7f424a9b5450>"
            ]
          },
          "metadata": {},
          "execution_count": 14
        },
        {
          "output_type": "display_data",
          "data": {
            "text/plain": [
              "<Figure size 1080x720 with 2 Axes>"
            ],
            "image/png": "[encoded data removed]"
          },
          "metadata": {
            "needs_background": "light"
          }
        }
      ]
    },
    {
      "cell_type": "markdown",
      "source": [
        "#**Splitting train and test data** "
      ],
      "metadata": {
        "id": "DdwWocEUIRk7"
      }
    },
    {
      "cell_type": "code",
      "source": [
        "x = df.drop(\"charges\", axis = 1)\n",
        "y = df[\"charges\"]"
      ],
      "metadata": {
        "id": "H-J2bQPQBmj4"
      },
      "execution_count": 15,
      "outputs": []
    },
    {
      "cell_type": "code",
      "source": [
        "from sklearn.model_selection import train_test_split"
      ],
      "metadata": {
        "id": "MO3w2MStB8-G"
      },
      "execution_count": 16,
      "outputs": []
    },
    {
      "cell_type": "code",
      "source": [
        "xtrain, xtest, ytrain, ytest = train_test_split(x, y, test_size = 0.3, random_state = 42) "
      ],
      "metadata": {
        "id": "2U2b6foWCXC4"
      },
      "execution_count": 17,
      "outputs": []
    },
    {
      "cell_type": "markdown",
      "source": [
        "###**Fitting the model**"
      ],
      "metadata": {
        "id": "MumyqY7LIhLm"
      }
    },
    {
      "cell_type": "code",
      "source": [
        "from sklearn.linear_model import LinearRegression"
      ],
      "metadata": {
        "id": "I1XgLzhHCjAs"
      },
      "execution_count": 18,
      "outputs": []
    },
    {
      "cell_type": "code",
      "source": [
        "reg = LinearRegression()\n",
        "reg.fit(xtrain, ytrain)"
      ],
      "metadata": {
        "colab": {
          "base_uri": "https://localhost:8080/"
        },
        "id": "jEkS-W4uCniK",
        "outputId": "af5c3976-642c-4ad3-8934-8647fdb2b2b1"
      },
      "execution_count": 19,
      "outputs": [
        {
          "output_type": "execute_result",
          "data": {
            "text/plain": [
              "LinearRegression()"
            ]
          },
          "metadata": {},
          "execution_count": 19
        }
      ]
    },
    {
      "cell_type": "markdown",
      "source": [
        "###**Predicting value using built-in method**"
      ],
      "metadata": {
        "id": "YW8MfqbyJsCr"
      }
    },
    {
      "cell_type": "code",
      "source": [
        "reg.predict([[28, 1, 33.000, 3, 0, 2]])"
      ],
      "metadata": {
        "colab": {
          "base_uri": "https://localhost:8080/"
        },
        "id": "mfAjThcYFzLZ",
        "outputId": "f4fc281f-42cb-4e11-abba-c1da5a3e6d24"
      },
      "execution_count": 20,
      "outputs": [
        {
          "output_type": "execute_result",
          "data": {
            "text/plain": [
              "array([7109.93211556])"
            ]
          },
          "metadata": {},
          "execution_count": 20
        }
      ]
    },
    {
      "cell_type": "code",
      "source": [
        "reg.intercept_"
      ],
      "metadata": {
        "colab": {
          "base_uri": "https://localhost:8080/"
        },
        "id": "TbbveR0oCu0N",
        "outputId": "bb10c61b-4421-4ede-97bc-3b60619083ba"
      },
      "execution_count": 21,
      "outputs": [
        {
          "output_type": "execute_result",
          "data": {
            "text/plain": [
              "-11502.550522993792"
            ]
          },
          "metadata": {},
          "execution_count": 21
        }
      ]
    },
    {
      "cell_type": "code",
      "source": [
        "reg.coef_"
      ],
      "metadata": {
        "colab": {
          "base_uri": "https://localhost:8080/"
        },
        "id": "9EP2-kYxCyCk",
        "outputId": "d38673ce-47de-4ab5-e0ad-caefc8ff048c"
      },
      "execution_count": 22,
      "outputs": [
        {
          "output_type": "execute_result",
          "data": {
            "text/plain": [
              "array([  252.03741011,  -110.31315941,   322.2408649 ,   524.49382188,\n",
              "       22855.75293908,  -270.84084621])"
            ]
          },
          "metadata": {},
          "execution_count": 22
        }
      ]
    },
    {
      "cell_type": "markdown",
      "source": [
        "###**Accuracy of the model using LinearRegression()**"
      ],
      "metadata": {
        "id": "Sev3Zr1xImpv"
      }
    },
    {
      "cell_type": "code",
      "source": [
        "reg.score(xtest, ytest)"
      ],
      "metadata": {
        "colab": {
          "base_uri": "https://localhost:8080/"
        },
        "id": "ZOE-HeExHySu",
        "outputId": "aead3f3c-e838-4aad-82eb-7958714f1732"
      },
      "execution_count": 23,
      "outputs": [
        {
          "output_type": "execute_result",
          "data": {
            "text/plain": [
              "0.7724652729621758"
            ]
          },
          "metadata": {},
          "execution_count": 23
        }
      ]
    },
    {
      "cell_type": "markdown",
      "source": [
        "###**Predicting value manually**"
      ],
      "metadata": {
        "id": "BlsY2Jv6JhKf"
      }
    },
    {
      "cell_type": "code",
      "source": [
        "x1, x2, x3, x4, x5, x6 = 28, 1, 33.000, 3, 0, 2\n",
        "m1, m2, m3, m4, m5, m6 = 252.03741011, -110.31315941, 322.2408649, 524.49382188, 22855.75293908, -270.84084621\n",
        "c = -11502.550522993792"
      ],
      "metadata": {
        "id": "PDo_5obfC0TT"
      },
      "execution_count": 24,
      "outputs": []
    },
    {
      "cell_type": "code",
      "source": [
        "y_pred = m1*x1 + m2*x2 + m3*x3 + m4*x4 + m5*x5 + m6*x6 + c\n",
        "y_pred"
      ],
      "metadata": {
        "colab": {
          "base_uri": "https://localhost:8080/"
        },
        "id": "gdKmafshECgV",
        "outputId": "6eb66710-e16e-4fbd-baf3-891f7f546de3"
      },
      "execution_count": 25,
      "outputs": [
        {
          "output_type": "execute_result",
          "data": {
            "text/plain": [
              "7109.93211559621"
            ]
          },
          "metadata": {},
          "execution_count": 25
        }
      ]
    },
    {
      "cell_type": "code",
      "source": [
        "ypred = reg.predict(xtest)\n",
        "ypred"
      ],
      "metadata": {
        "colab": {
          "base_uri": "https://localhost:8080/"
        },
        "id": "RfURI5uzE3O0",
        "outputId": "bef0b07a-c2bc-4d2b-da90-dbc31b782bf1"
      },
      "execution_count": 26,
      "outputs": [
        {
          "output_type": "execute_result",
          "data": {
            "text/plain": [
              "array([ 7992.22248609,  5341.35326047, 14378.73188133, 31440.55293339,\n",
              "        9078.42878582, 13331.53020663, 30015.62300825,  1060.20297782,\n",
              "       10802.53466614, 11284.70044629, 10396.95048808, 32894.50379973,\n",
              "       30669.54048862, 17237.80701055, 10643.51222293,  9213.5977002 ,\n",
              "        3773.80434473, 31641.92659452,  2813.68258367,  5324.45369199,\n",
              "        3630.46452846, 29871.53008128, 15107.82863757, 29903.73601081,\n",
              "       30848.81403335,  5405.34217344, 35454.94330799, 36122.11169322,\n",
              "       11290.35021579, 14062.73810237,  6321.02165848, 12917.2878143 ,\n",
              "         421.27879848, 11830.93858194, 39698.98027441, 12083.96625533,\n",
              "        4312.19557599,  3789.91765443, 30794.02437636,  9112.83873186,\n",
              "        6869.07012676, 29699.1168314 , 34703.301575  , 12173.91799125,\n",
              "        7298.02239426,  3055.78873581,  6013.98489716,  8682.0312554 ,\n",
              "        4165.46676689,  9145.17083402,  6695.75145308, 11961.77940414,\n",
              "       30858.33152863,  3626.49085448, 10745.39561068,  9873.66045747,\n",
              "       10704.4996473 ,  2307.2907786 , 31063.04683989,  9356.16498687,\n",
              "       15766.90483481,  8325.43094848, 12606.24424344,  1342.35229507,\n",
              "       16768.52039066, 10557.64039784, 10428.07576814, 30226.2713969 ,\n",
              "       24145.14946784, 16526.06100578,  7240.84021432,  2738.40650544,\n",
              "        6959.61025961,  -266.79094555, 11586.122934  , -1532.68218244,\n",
              "       16934.1493322 ,  8731.78772269,  7422.98427789, 12723.85845587,\n",
              "        5684.30142911, 18748.94265369, 15417.79208645, 11110.3758432 ,\n",
              "       36170.52084519, 13335.20315282,  4152.5110412 ,  2370.83603113,\n",
              "        6468.9723223 ,  4134.47761882, 15210.57573412, 27839.57299797,\n",
              "        5084.58338847,  2889.09028964,  1786.39872605, 35590.89668981,\n",
              "       14566.7660283 ,  9006.49924645,  4272.35165525,  8522.86660408,\n",
              "       13810.54327896, 14895.08543353, 32066.86827016, 14300.09363566,\n",
              "       32467.17708673,   -84.64372065, 30732.89658926, 26102.71784578,\n",
              "       13944.0012349 ,  5653.14439341,  8255.15824126, 11600.06271636,\n",
              "        8305.72400049, 10082.28646345,  5847.95096492,  5449.9098831 ,\n",
              "        1835.90431159,  3122.41603426,  7147.42970565,  9192.17589347,\n",
              "       36016.45672407,  8061.75013458, 11724.08180991,  9299.55192798,\n",
              "        9001.13461768,  9333.29108693,  4199.57481219, 12146.40134511,\n",
              "       29688.07613262, 38567.51732097, 35824.18552908, 12176.12444457,\n",
              "        2440.86974041, 11463.37372281, 10110.8125822 ,  5234.34926112,\n",
              "       34723.28930249, 29487.88618396, 25177.38854026,  4957.63262514,\n",
              "        6401.88947961,  5558.79037273, 36536.65731671, 10725.90270565,\n",
              "        5639.11718914,  8083.8863013 , 10369.5301043 ,  8160.69058974,\n",
              "       34985.45570191, 14360.60991621,  9525.31826476,  6602.48079479,\n",
              "        6748.76333408, 16608.28352179,  7022.2930698 , 26269.62655258,\n",
              "       36253.71686448, 16630.2763615 , 10084.92159409, 11095.93303088,\n",
              "       12638.30108776,  3968.88861347, 12848.05653237, 13620.5129393 ,\n",
              "       35489.5192963 , 32959.28023793, 13013.13203344, 25025.70756164,\n",
              "        2359.76662459,  1773.94729677,  4811.2658378 ,  5111.39343604,\n",
              "        5058.75913691,  9911.36206458, 10001.16584865, 25921.15530204,\n",
              "        2009.36520589, 10793.85149687,  6792.80129441, 11976.98729004,\n",
              "       14947.94506799,  5020.6281135 , 11032.04024978, 10062.2842553 ,\n",
              "       32774.28996506, 10886.70173747,  6900.09176491,  5482.23195934,\n",
              "         270.57249608, 30989.85747104,  8114.98847173, 32488.47278739,\n",
              "       12569.94097064,  6080.56592231,  1513.89121881,  2094.46767523,\n",
              "       32410.32382999,  4652.58584991, 13367.41971674, 17448.52229582,\n",
              "       26046.68761016, 25591.99220286,  6670.56122628, 12341.4607228 ,\n",
              "       27875.33712393,  7638.20985106, 10262.41308258,  9966.26225311,\n",
              "        3084.88218428, 34222.93741753, 31031.10724868,  9579.58886884,\n",
              "        5907.24539075,  7584.82362861, 10982.58080702,  4827.82147493,\n",
              "        5029.83793732, 11940.90049699,  9228.54721878,  2799.63226977,\n",
              "        4012.86226153, 37515.3105234 , 37093.30597265, 13003.36181104,\n",
              "       10900.7495355 , 37749.12231396, 34100.07528752,  6896.96415771,\n",
              "       26585.91004308,  3977.58366655, 15984.38683592, 28924.65730064,\n",
              "        5667.44248176,  9148.59849659,  8661.55495166,  9095.48361915,\n",
              "        9527.98034139,  4367.01703812,  5640.02010959,  4674.68094709,\n",
              "        5906.90036553,  4679.68060233,  5771.93426826,  8536.16358519,\n",
              "        1017.42003731,  8386.80150333,  3389.79667379, 10604.6941799 ,\n",
              "        2432.27768378, 10231.66921814,  3795.12877019, 11826.02197485,\n",
              "       12009.61938102, 14419.92243246, 36763.9514278 , 22728.68689021,\n",
              "       10026.99627986,  7710.82583113,  9126.67691474, 12385.14863869,\n",
              "       29066.10889037, 37886.99635038, 14904.15239127, 17020.15908322,\n",
              "       15531.46801723,  6234.34925141, 38026.48595237,  8180.10558643,\n",
              "        2082.12034879,  3025.0006405 , 14473.63005554, 17087.14012937,\n",
              "        9963.80240217, 10096.99441418, 12279.11740364, 12497.42991145,\n",
              "        5230.03609609,  9052.59452086,  1126.04151414, 17301.57694042,\n",
              "        5299.48762756,  7650.20033501, 12280.15632559,  3137.22704799,\n",
              "       13492.31735464, 11665.367667  ,  5381.10115289,  7612.88111941,\n",
              "       10573.72992289, 10995.71445878, 38325.80868646, 14117.82590282,\n",
              "        2159.44686399, -1462.22341811, 31259.60003831, 11548.537922  ,\n",
              "        2539.44706742,  9311.17604146, 10606.1817815 , 13363.30375558,\n",
              "        1128.06211992,  3075.36218565, 39352.89776449, 29711.54779741,\n",
              "        3395.54573648,  2202.19872389, 11039.72185087,  4172.12119934,\n",
              "       15932.1468931 ,  4287.86343028,  5146.06305286, 11367.26798753,\n",
              "       30597.16041171, 12793.44718875, 24993.03486205,  9643.28261515,\n",
              "        3238.27551831,  3050.11836004, 30668.12517028, 10328.62161164,\n",
              "       39009.54836244,  5167.01993491, 10219.49960821,  6157.63238488,\n",
              "       12635.51792427, 30683.16388958, 11552.5815064 , 11460.92885046,\n",
              "        5888.21047927, 14240.23385859,  6156.19639371,  8167.75819345,\n",
              "        7318.22114637,  4524.9557496 , 14079.10590357,  3580.07610387,\n",
              "       16143.92044014,  9640.3964427 , 12554.12094524,  5552.56395962,\n",
              "        5336.90593931,  4085.08567664, 11400.22472146,  7912.35550861,\n",
              "        1937.32593598, 11648.08180671, 32300.67452653,  8759.29108808,\n",
              "        5893.3767187 ,  6401.22246233,  3921.65512392, 31625.24226889,\n",
              "       14929.97587882, 25929.6787517 , 35929.91595726,  5504.81930907,\n",
              "        8541.72113565,  8285.2132282 , 31826.12367748,  3788.2472236 ,\n",
              "       32529.63026692, 27687.56691546, 35118.06626065,  7195.05504816,\n",
              "       26004.26528193,  9875.73090929, 13054.30256972, 12641.39185615,\n",
              "        8340.09968755,  9351.40248421, 11954.34736883,  5873.63787206,\n",
              "        -890.80257822, 11887.24773918,  2594.69228116,  3539.26934121,\n",
              "       18243.14927147,  5511.21118553, 11338.84672311,  3029.49719923,\n",
              "       15019.98684125, 10777.14790789,  2583.51500197, 38087.30917984,\n",
              "        5012.81610904,  8224.6033857 , 15858.18188282, 15708.37046334,\n",
              "        9382.78101887, 10353.24581218,  9066.51132409,  -157.67893104,\n",
              "        9688.34508071,  4166.4551848 , 10423.56652008, 29216.39264106,\n",
              "        -888.20045263,  7250.6173013 , 14090.07481702, 12271.44702837,\n",
              "       13641.91599764,  8062.18251516])"
            ]
          },
          "metadata": {},
          "execution_count": 26
        }
      ]
    },
    {
      "cell_type": "markdown",
      "source": [
        "#**Finding the R-squared value**"
      ],
      "metadata": {
        "id": "W2WDiz2kIwIt"
      }
    },
    {
      "cell_type": "code",
      "source": [
        "from sklearn.metrics import r2_score"
      ],
      "metadata": {
        "id": "bRAnd-seGWm8"
      },
      "execution_count": 27,
      "outputs": []
    },
    {
      "cell_type": "code",
      "source": [
        "r2s = r2_score(ytest, ypred)\n",
        "r2s"
      ],
      "metadata": {
        "colab": {
          "base_uri": "https://localhost:8080/"
        },
        "id": "91RIOE5uGd25",
        "outputId": "49cd8b60-2d5e-47d6-9700-b2c3bffdffb1"
      },
      "execution_count": 28,
      "outputs": [
        {
          "output_type": "execute_result",
          "data": {
            "text/plain": [
              "0.7724652729621758"
            ]
          },
          "metadata": {},
          "execution_count": 28
        }
      ]
    }
  ]
}